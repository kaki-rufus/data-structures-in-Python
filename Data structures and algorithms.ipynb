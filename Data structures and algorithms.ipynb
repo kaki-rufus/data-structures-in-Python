{
 "cells": [
  {
   "cell_type": "markdown",
   "id": "331283e7",
   "metadata": {},
   "source": [
    "### BigO refers to very large value of n.\n",
    "------- Used to measure performace in worst case scenario which is 1 \n",
    "\n",
    "------- Keep fastest growing term \n",
    "\n",
    "------- Drop constants\n",
    "\n",
    "- Time complexity: measuring time growth\n",
    "- Space complexity: measuring space growth\n",
    "- Complexity of Binary search is 0(log n)"
   ]
  },
  {
   "cell_type": "markdown",
   "id": "d0278253",
   "metadata": {},
   "source": [
    "##### 1.Array\n",
    "- They store values in contiguous memory locations: next to each other\n",
    "- Big O complexity for an array (lookup index) is 0(1) which is a constant time operation; the amount of time\n",
    "  to access any array element is constant(same time)\n",
    "- Complexity of array traversal is 0(n)\n",
    "- Array insertion at start: 0(n)....use .insert(index, what you want to insert)\n",
    "- Array insertion at middle: 0(n)\n",
    "- Array deletion at start: 0(n).....use .remove(index) function for deletion\n",
    "- In Python, list is implemented as dynamic array"
   ]
  },
  {
   "cell_type": "markdown",
   "id": "fd9ab270",
   "metadata": {},
   "source": [
    "### Exercise ArrayDataStructure"
   ]
  },
  {
   "cell_type": "markdown",
   "id": "864f8396",
   "metadata": {},
   "source": [
    "###### Number 1: "
   ]
  },
  {
   "cell_type": "code",
   "execution_count": 18,
   "id": "7a2a7fd5",
   "metadata": {},
   "outputs": [],
   "source": [
    "exp = [2200, 2350, 2600, 2130, 2190]"
   ]
  },
  {
   "cell_type": "code",
   "execution_count": 19,
   "id": "a44b601f",
   "metadata": {},
   "outputs": [
    {
     "name": "stdout",
     "output_type": "stream",
     "text": [
      "In feb this much extra was spent compared to jan: 150\n"
     ]
    }
   ],
   "source": [
    "# exp[1] - exp[0]\n",
    "print(\"In feb this much extra was spent compared to jan:\",exp[1]-exp[0]) "
   ]
  },
  {
   "cell_type": "code",
   "execution_count": 20,
   "id": "143d482e",
   "metadata": {},
   "outputs": [
    {
     "name": "stdout",
     "output_type": "stream",
     "text": [
      "Expense for first quarter: 7150\n"
     ]
    }
   ],
   "source": [
    "# exp[0] + exp[1] + exp[2]\n",
    "print(\"Expense for first quarter:\",exp[0]+exp[1]+exp[2])"
   ]
  },
  {
   "cell_type": "code",
   "execution_count": 15,
   "id": "88fd6e17",
   "metadata": {},
   "outputs": [
    {
     "name": "stdout",
     "output_type": "stream",
     "text": [
      "Did I spent 2000$ in any month?  False\n"
     ]
    }
   ],
   "source": [
    "# for i in range(len(exp)):\n",
    "#     if exp[i] == 2000:\n",
    "#         print(i)\n",
    "#     else:\n",
    "#         print(\"None\")\n",
    "print(\"Did I spent 2000$ in any month? \", 2000 in exp)"
   ]
  },
  {
   "cell_type": "code",
   "execution_count": 21,
   "id": "6b69ab1a",
   "metadata": {},
   "outputs": [
    {
     "name": "stdout",
     "output_type": "stream",
     "text": [
      "Expenses at the end of June: [2200, 2350, 2600, 2130, 2190, 1980]\n"
     ]
    }
   ],
   "source": [
    "# exp.insert(5, 1980)\n",
    "exp.append(1980)\n",
    "print(\"Expenses at the end of June:\",exp)"
   ]
  },
  {
   "cell_type": "code",
   "execution_count": 11,
   "id": "a4039824",
   "metadata": {},
   "outputs": [
    {
     "data": {
      "text/plain": [
       "[2200, 2350, 2600, 2130, 2190, 1980]"
      ]
     },
     "execution_count": 11,
     "metadata": {},
     "output_type": "execute_result"
    }
   ],
   "source": [
    "# exp"
   ]
  },
  {
   "cell_type": "code",
   "execution_count": 22,
   "id": "0a82527b",
   "metadata": {},
   "outputs": [
    {
     "name": "stdout",
     "output_type": "stream",
     "text": [
      "Expenses after 200$ return in April: [2200, 2350, 2600, 1930, 2190, 1980]\n"
     ]
    }
   ],
   "source": [
    "# You returned an item that you bought in a month of April and\n",
    "# got a refund of 200$. Make a correction to your monthly expense list\n",
    "# based on this\n",
    "exp[3] = exp[3] - 200\n",
    "print(\"Expenses after 200$ return in April:\",exp) # [2200, 2350, 2600, 1930, 2190, 1980]"
   ]
  },
  {
   "cell_type": "markdown",
   "id": "5dca0dfd",
   "metadata": {},
   "source": [
    "###### Number 2: "
   ]
  },
  {
   "cell_type": "code",
   "execution_count": 23,
   "id": "1797a1b9",
   "metadata": {},
   "outputs": [],
   "source": [
    "# list of favourite marvel super heros\n",
    "heros=['spider man','thor','hulk','iron man','captain america']"
   ]
  },
  {
   "cell_type": "code",
   "execution_count": 24,
   "id": "578af687",
   "metadata": {},
   "outputs": [
    {
     "data": {
      "text/plain": [
       "5"
      ]
     },
     "execution_count": 24,
     "metadata": {},
     "output_type": "execute_result"
    }
   ],
   "source": [
    "# length of list\n",
    "len(heros)"
   ]
  },
  {
   "cell_type": "code",
   "execution_count": 25,
   "id": "835fda0a",
   "metadata": {},
   "outputs": [
    {
     "data": {
      "text/plain": [
       "['spider man', 'thor', 'hulk', 'iron man', 'captain america', 'black panther']"
      ]
     },
     "execution_count": 25,
     "metadata": {},
     "output_type": "execute_result"
    }
   ],
   "source": [
    "# add black panther at the end of the list\n",
    "heros.append('black panther')\n",
    "heros"
   ]
  },
  {
   "cell_type": "code",
   "execution_count": 30,
   "id": "61d4a0c5",
   "metadata": {},
   "outputs": [
    {
     "data": {
      "text/plain": [
       "['spider man', 'thor', 'hulk', 'black panther', 'iron man', 'captain america']"
      ]
     },
     "execution_count": 30,
     "metadata": {},
     "output_type": "execute_result"
    }
   ],
   "source": [
    "# add black panther after hulk\n",
    "# heros.remove('black panther')\n",
    "heros.insert(3, 'black panther')\n",
    "heros"
   ]
  },
  {
   "cell_type": "code",
   "execution_count": 36,
   "id": "fc6a6f7d",
   "metadata": {},
   "outputs": [
    {
     "name": "stdout",
     "output_type": "stream",
     "text": [
      "['spider man', 'doctor strange', 'black panther', 'iron man', 'captain america']\n"
     ]
    }
   ],
   "source": [
    "# remove thor and hulk from list and replace with doctor strange\n",
    "# heros.remove(['thor', 'hulk'], 'doctor strange')\n",
    "heros[1:3]=['doctor strange']\n",
    "print(heros)"
   ]
  },
  {
   "cell_type": "code",
   "execution_count": 37,
   "id": "f2794592",
   "metadata": {},
   "outputs": [
    {
     "name": "stdout",
     "output_type": "stream",
     "text": [
      "['black panther', 'captain america', 'doctor strange', 'iron man', 'spider man']\n"
     ]
    }
   ],
   "source": [
    "# sort the list in alphabetical order \n",
    "heros.sort()\n",
    "print(heros)"
   ]
  },
  {
   "cell_type": "code",
   "execution_count": 43,
   "id": "fea259d0",
   "metadata": {},
   "outputs": [
    {
     "name": "stdout",
     "output_type": "stream",
     "text": [
      "Enter a maximum number: 9\n",
      "Odd numbers: [1, 3, 5, 7]\n"
     ]
    }
   ],
   "source": [
    "# Create a list of all odd numbers between 1 and a max number. \n",
    "# Max number is something you need to take from a user using input() function\n",
    "\n",
    "max = int(input(\"Enter a maximum number: \"))\n",
    "\n",
    "list_max = []\n",
    "\n",
    "for i in range(1, max):\n",
    "    if i % 2 != 0:\n",
    "        list_max.append(i)\n",
    "\n",
    "print(f'Odd numbers: {list_max}')"
   ]
  },
  {
   "cell_type": "markdown",
   "id": "1f94203e",
   "metadata": {},
   "source": [
    "### 2.Linked Lists\n",
    "- They store values at random memory locations\n",
    "- Indexing: O(n)\n",
    "- Insert and delete elements at beginning: 0(1)\n",
    "- Insert or Delete elements at the end or middle: O(n)\n",
    "- Linked-Linked traversal: O(n)\n",
    "- Accessing Element by Value: O(n)\n",
    "---------------BENEFITS-------------------\n",
    "- You dont need to pre-allocate space\n",
    "- Insertion is easier\n",
    "\n",
    "### 2.1 Double Linked Lists\n",
    "- You not only have the link to your next element but also previous element"
   ]
  },
  {
   "cell_type": "markdown",
   "id": "e763e81c",
   "metadata": {},
   "source": [
    "# LINKED LIST TRAVERSAL part 1 \n",
    " - When traversing you should consider 2 things:\n",
    " \n",
    " \n",
    " \n",
    "      ----- If linked list is empty\n",
    "      ----- If not empty"
   ]
  },
  {
   "cell_type": "code",
   "execution_count": 5,
   "id": "f4e096a0",
   "metadata": {},
   "outputs": [
    {
     "name": "stdout",
     "output_type": "stream",
     "text": [
      "Linked List is empty\n"
     ]
    }
   ],
   "source": [
    "# first define a single node -> this will be a Python class\n",
    "# Initialize the elements found in a node i.e Data and next (pointer to the next element)\n",
    "\n",
    "# After that initialize a linked List: this is chain of nodes you created\n",
    "# You use a Linked list data structure to connect/link the nodes created\n",
    "# In a linked list you initialize head and set it to none since at first it will be empty\n",
    "\n",
    "class Node:\n",
    "    def __init__(self, data=None):\n",
    "        self.data = data\n",
    "        self.next = None\n",
    "        \n",
    "class LinkedList:\n",
    "    def __init__(self):\n",
    "        self.head = None\n",
    "    \n",
    "    def Print(self):\n",
    "        if self.head == None:\n",
    "            print(\"Linked List is empty\")\n",
    "        else:\n",
    "            n = self.head\n",
    "            while n.next != None:\n",
    "                print(n.data)\n",
    "                n = n.next\n",
    "                \n",
    "ll = LinkedList()\n",
    "ll.Print()"
   ]
  },
  {
   "cell_type": "markdown",
   "id": "d89faff2",
   "metadata": {},
   "source": [
    "# LINKED LIST INSERT AT BEGINNING part 2\n",
    " - First is creating a node from the Node class\n",
    " - Second is to store the reference of the new node to point to the head\n",
    " - Third is to point the head to the new node"
   ]
  },
  {
   "cell_type": "code",
   "execution_count": 5,
   "id": "611cf721",
   "metadata": {},
   "outputs": [
    {
     "name": "stdout",
     "output_type": "stream",
     "text": [
      "10\n"
     ]
    }
   ],
   "source": [
    "class Node:\n",
    "    def __init__(self, data=None):\n",
    "        self.data = data\n",
    "        self.next = None\n",
    "        \n",
    "class LinkedList:\n",
    "    def __init__(self):\n",
    "        self.head = None\n",
    "    \n",
    "    def Print(self):\n",
    "        if self.head == None:\n",
    "            print(\"Linked List is empty\")\n",
    "        else:\n",
    "            n = self.head   #This stores the 1st node (reference)\n",
    "            while n != None:\n",
    "                print(n.data)\n",
    "                n = n.next\n",
    "    \n",
    "    def add_begin(self, data):\n",
    "        new_node = Node(data)\n",
    "        new_node.next = self.head\n",
    "        self.head = new_node\n",
    "                \n",
    "ll = LinkedList()\n",
    "\n",
    "ll.add_begin(10)\n",
    "\n",
    "ll.Print()\n",
    "\n",
    "\n",
    "\n"
   ]
  },
  {
   "cell_type": "markdown",
   "id": "73353b53",
   "metadata": {},
   "source": [
    "# INSERT AT THE END part 3\n",
    " - First check if the linked list is empty..."
   ]
  },
  {
   "cell_type": "code",
   "execution_count": 26,
   "id": "abec9a33",
   "metadata": {},
   "outputs": [
    {
     "name": "stdout",
     "output_type": "stream",
     "text": [
      "30 -----> 20 -----> 10 -----> 50 -----> 60 -----> 70 -----> 80 -----> "
     ]
    }
   ],
   "source": [
    "class Node:\n",
    "    def __init__(self, data=None):\n",
    "        self.data = data\n",
    "        self.next = None\n",
    "        \n",
    "class LinkedList:\n",
    "    def __init__(self):\n",
    "        self.head = None\n",
    "  \n",
    "#    TRAVERSE A LINKED LIST\n",
    "    def Print(self):\n",
    "        if self.head == None:\n",
    "            print(\"Linked List is empty\")\n",
    "        else:\n",
    "            n = self.head\n",
    "            while n.next != None:\n",
    "                print(n.data, \"----->\", end=\" \")\n",
    "                n = n.next\n",
    "    \n",
    "#     INSERT AT THE BEGINNING\n",
    "    def add_begin(self, data):\n",
    "        new_node = Node(data)\n",
    "        new_node.next = self.head\n",
    "        self.head = new_node\n",
    "        \n",
    "#    INSERT AT THE END\n",
    "    def insert_end(self, data):\n",
    "        end_node = Node(data)\n",
    "        \n",
    "        if self.head is None:\n",
    "            self.head = end_node\n",
    "        else:\n",
    "            n = self.head\n",
    "            while n.next is not None:\n",
    "                n = n.next\n",
    "            n.next = end_node\n",
    "\n",
    "                \n",
    "ll = LinkedList()\n",
    "\n",
    "\n",
    "ll.add_begin(10)\n",
    "ll.add_begin(20)\n",
    "ll.add_begin(30)\n",
    "\n",
    "ll.insert_end(50)\n",
    "ll.insert_end(60)\n",
    "ll.insert_end(70)\n",
    "ll.insert_end(80)\n",
    "ll.insert_end(120)\n",
    "\n",
    "ll.Print()"
   ]
  },
  {
   "cell_type": "markdown",
   "id": "705589e2",
   "metadata": {},
   "source": [
    "# Doubly LinkedList\n",
    "- A single node will hold 3 items: previous node's reference, data and next node's reference"
   ]
  },
  {
   "cell_type": "markdown",
   "id": "db679b35",
   "metadata": {},
   "source": [
    "## Part1: Traverse a doubly linked list"
   ]
  },
  {
   "cell_type": "code",
   "execution_count": 105,
   "id": "adc9481a",
   "metadata": {},
   "outputs": [
    {
     "name": "stdout",
     "output_type": "stream",
     "text": [
      "The double linked list is empty (forward)\n",
      "The double linked list is empty (reverse)\n"
     ]
    }
   ],
   "source": [
    "# create a node class\n",
    "class Node:\n",
    "    def __init__(self, data):\n",
    "        self.data = data\n",
    "        self.nref = None\n",
    "        self.pref = None\n",
    "        \n",
    "# create a class to hold methods for manipulatig my doubly LL\n",
    "class double_LL():\n",
    "    def __init__(self):\n",
    "        self.head = None\n",
    "        \n",
    "    def printdbll(self):\n",
    "        if self.head is None:\n",
    "            print('The double linked list is empty (forward)')\n",
    "        else:\n",
    "            n = self.head\n",
    "            while n is not None:\n",
    "                print(n.data, '--->', end=' ')\n",
    "                n = n.nref\n",
    "    def printdbll_reverse(self):\n",
    "        if self.head is None:\n",
    "            print('The double linked list is empty (reverse)')\n",
    "        else:\n",
    "            n = self.head\n",
    "#             go to the last node\n",
    "            while n.nref is not None:\n",
    "                n = nref\n",
    "            while n is not None:\n",
    "                print(n.data, '--->', end=' ')\n",
    "                n = n.pref\n",
    "                \n",
    "dbl = double_LL()\n",
    "dbl.printdbll()\n",
    "dbl.printdbll_reverse()"
   ]
  },
  {
   "cell_type": "markdown",
   "id": "7765bdf5",
   "metadata": {},
   "source": [
    "## Part2: \n",
    "### Insert to a doubly linked list: when empty, at the beginning and at the end "
   ]
  },
  {
   "cell_type": "code",
   "execution_count": 117,
   "id": "024c5e7b",
   "metadata": {},
   "outputs": [
    {
     "name": "stdout",
     "output_type": "stream",
     "text": [
      "13 ---> 14 ---> \n",
      "14 ---> 13 ---> "
     ]
    }
   ],
   "source": [
    "# create a node class\n",
    "class Node:\n",
    "    def __init__(self, data):\n",
    "        self.data = data\n",
    "        self.nref = None\n",
    "        self.pref = None\n",
    "        \n",
    "# create a class to hold methods for manipulatig my doubly LL\n",
    "class double_LL():\n",
    "    def __init__(self):\n",
    "        self.head = None\n",
    "        \n",
    "    def printdbll(self):\n",
    "        if self.head is None:\n",
    "            print('The double linked list is empty (forward)')\n",
    "        else:\n",
    "            n = self.head\n",
    "            while n is not None:\n",
    "                print(n.data, '--->', end=' ')\n",
    "                n = n.nref\n",
    "    def printdbll_reverse(self):\n",
    "        print()\n",
    "        if self.head is None:\n",
    "            print('The double linked list is empty (reverse)')\n",
    "        else:\n",
    "            n = self.head\n",
    "#             go to the last node\n",
    "            while n.nref is not None:\n",
    "                n = n.nref\n",
    "            while n is not None:\n",
    "                print(n.data, '--->', end=' ')\n",
    "                n = n.pref\n",
    "    \n",
    "    def insert_empty(self, data):\n",
    "        if self.head is None:\n",
    "            new_node = Node(data)\n",
    "            self.head = new_node\n",
    "        else:\n",
    "            print(\"Double linked List is not empty\")\n",
    "            \n",
    "    def add_begin(self, data):\n",
    "        new_node = Node(data)\n",
    "        if self.head is None:\n",
    "            self.head = new_node\n",
    "        else:\n",
    "            new_node.nref = self.head\n",
    "            self.head.pref = new_node\n",
    "            self.head = new_node\n",
    "            \n",
    "    def add_end(self, data):\n",
    "        new_node = Node(data)\n",
    "        if self.head is None:\n",
    "            self.head = new_node\n",
    "        else:\n",
    "            n = self.head\n",
    "            while n.nref is not None:\n",
    "                n = n.nref\n",
    "            n.nref = new_node\n",
    "            new_node.pref = n\n",
    "                \n",
    "dbl = double_LL()\n",
    "\n",
    "dbl.insert_empty(14)\n",
    "\n",
    "dbl.add_begin(13)\n",
    "# dbl.add_begin(15)\n",
    "# dbl.add_begin(19)\n",
    "\n",
    "dbl.printdbll()\n",
    "dbl.printdbll_reverse()"
   ]
  },
  {
   "cell_type": "markdown",
   "id": "cb938a6c",
   "metadata": {},
   "source": [
    "### Part 3: \n",
    "### Insert to a doubly linked list: after and before a given node "
   ]
  },
  {
   "cell_type": "code",
   "execution_count": 28,
   "id": "0481af0b",
   "metadata": {},
   "outputs": [
    {
     "name": "stdout",
     "output_type": "stream",
     "text": [
      "6 ----> 9 ----> 10 ----> 13 ----> 14 ----> 15 ----> 16 ----> 17 ----> 19 ----> \n",
      "----------------------------------\n",
      "19 <---- 17 <---- 16 <---- 15 <---- 14 <---- 13 <---- 10 <---- 9 <---- 6 <---- "
     ]
    }
   ],
   "source": [
    "class Node:\n",
    "    def __init__(self, data):\n",
    "        self.data = data\n",
    "        self.next = None\n",
    "        self.prev = None\n",
    "\n",
    "class doubleLL():\n",
    "    def __init__(self):\n",
    "        self.head = None\n",
    "        \n",
    "    def printForward(self):\n",
    "        if self.head == None:\n",
    "            print(\"Double Linked List is empty(forward)\")\n",
    "        else:\n",
    "            n = self.head\n",
    "            while n != None:\n",
    "                print(n.data, '---->', end=' ')\n",
    "                n = n.next\n",
    "                \n",
    "    def printReverse(self):\n",
    "        print()\n",
    "        print(\"----------------------------------\")\n",
    "        if self.head == None:\n",
    "            print(\"Double Linked List is empty(reverse)\")\n",
    "        else:\n",
    "            n = self.head\n",
    "            while n.next != None:\n",
    "                n = n.next\n",
    "            while n != None:\n",
    "                print(n.data, '<----', end=' ')\n",
    "                n = n.prev\n",
    "                \n",
    "    def addEmpty(self, data):\n",
    "        if self.head == None:\n",
    "            new_node = Node(data)\n",
    "            self.head = new_node\n",
    "        else:\n",
    "            print(\"Double Linked List is not empty\")\n",
    "    \n",
    "    def addBegin(self, data):\n",
    "        new_node = Node(data)\n",
    "        if self.head == None:\n",
    "            self.head = new_node\n",
    "        else:\n",
    "            new_node.next = self.head\n",
    "            self.head.prev = new_node\n",
    "            self.head = new_node\n",
    "            \n",
    "    def addEnd(self, data):\n",
    "        new_node = Node(data)\n",
    "        if self.head == None:\n",
    "            self.head = new_node\n",
    "        else:\n",
    "            n = self.head\n",
    "            while n.next != None:\n",
    "                n = n.next\n",
    "            new_node.next = n.next\n",
    "            n.next = new_node\n",
    "            new_node.prev = n\n",
    "            \n",
    "    def addAfter(self, data, x):\n",
    "        if self.head == None:\n",
    "            print(\"Double Linked List is empty\")\n",
    "        else:\n",
    "            new_node = Node(data)\n",
    "            n = self.head\n",
    "            while n != None:\n",
    "                if x == n.data:\n",
    "                    break\n",
    "                n = n.next\n",
    "            if n == None:\n",
    "                print(\"Node not found in the double linked list\")\n",
    "            else:\n",
    "                new_node.next = n.next\n",
    "                new_node.prev = n\n",
    "                n.next.prev = new_node\n",
    "                n.next = new_node\n",
    "                \n",
    "    def addBefore(self, data, x):\n",
    "        if self.head == None:\n",
    "            print(\"Double Linked List is empty\")\n",
    "        else:\n",
    "            new_node = Node(data)\n",
    "            n = self.head\n",
    "            while n != None:\n",
    "                if x == n.data:\n",
    "                    break\n",
    "                n = n.next\n",
    "            if n == None:\n",
    "                print(\"Node not found in the double linked list\")\n",
    "            else:\n",
    "                new_node.next = n\n",
    "                new_node.prev = n.prev\n",
    "                n.prev.next = new_node\n",
    "                n.prev = new_node\n",
    "                \n",
    "\n",
    "dbl = doubleLL()\n",
    "\n",
    "# insert in an empty d.ll\n",
    "dbl.addEmpty(13)\n",
    "\n",
    "# insert at the beginnig of a d.ll\n",
    "dbl.addBegin(9)\n",
    "dbl.addBegin(6)\n",
    "\n",
    "# insert at the end of my d.ll\n",
    "dbl.addEnd(15)\n",
    "dbl.addEnd(19)\n",
    "\n",
    "# insert after a node in a d.ll\n",
    "dbl.addAfter(14, 13)\n",
    "dbl.addAfter(17, 15)\n",
    "\n",
    "# insert before a node in a d.ll\n",
    "dbl.addBefore(10, 13)\n",
    "dbl.addBefore(16, 17)\n",
    "\n",
    "dbl.printForward()\n",
    "dbl.printReverse()"
   ]
  },
  {
   "cell_type": "markdown",
   "id": "c8443b44",
   "metadata": {},
   "source": [
    "### Part 4:\n",
    "## Deletion from a double linked list"
   ]
  },
  {
   "cell_type": "markdown",
   "id": "21605ca0",
   "metadata": {},
   "source": [
    "### 1. Deletion at the beginning"
   ]
  },
  {
   "cell_type": "code",
   "execution_count": 99,
   "id": "a30f951e",
   "metadata": {},
   "outputs": [
    {
     "name": "stdout",
     "output_type": "stream",
     "text": [
      "9 ----> 10 ----> 13 ----> 14 ----> 15 ----> 16 ----> 17 ----> \n",
      "----------------------------------\n",
      "17 <---- 16 <---- 15 <---- 14 <---- 13 <---- 10 <---- 9 <---- "
     ]
    }
   ],
   "source": [
    "class Node:\n",
    "    def __init__(self, data):\n",
    "        self.data = data\n",
    "        self.next = None\n",
    "        self.prev = None\n",
    "\n",
    "class doubleLL():\n",
    "    def __init__(self):\n",
    "        self.head = None\n",
    "        \n",
    "    def printForward(self):\n",
    "        if self.head == None:\n",
    "            print(\"Double Linked List is empty(forward)\")\n",
    "        else:\n",
    "            n = self.head\n",
    "            while n != None:\n",
    "                print(n.data, '---->', end=' ')\n",
    "                n = n.next\n",
    "                \n",
    "    def printReverse(self):\n",
    "        print()\n",
    "        print(\"----------------------------------\")\n",
    "        if self.head == None:\n",
    "            print(\"Double Linked List is empty(reverse)\")\n",
    "        else:\n",
    "            n = self.head\n",
    "            while n.next != None:\n",
    "                n = n.next\n",
    "            while n != None:\n",
    "                print(n.data, '<----', end=' ')\n",
    "                n = n.prev\n",
    "                \n",
    "    def addEmpty(self, data):\n",
    "        if self.head == None:\n",
    "            new_node = Node(data)\n",
    "            self.head = new_node\n",
    "        else:\n",
    "            print(\"Double Linked List is not empty\")\n",
    "    \n",
    "    def addBegin(self, data):\n",
    "        new_node = Node(data)\n",
    "        if self.head == None:\n",
    "            self.head = new_node\n",
    "        else:\n",
    "            new_node.next = self.head\n",
    "            self.head.prev = new_node\n",
    "            self.head = new_node\n",
    "            \n",
    "    def addEnd(self, data):\n",
    "        new_node = Node(data)\n",
    "        if self.head == None:\n",
    "            self.head = new_node\n",
    "        else:\n",
    "            n = self.head\n",
    "            while n.next != None:\n",
    "                n = n.next\n",
    "            new_node.next = n.next\n",
    "            n.next = new_node\n",
    "            new_node.prev = n\n",
    "            \n",
    "    def addAfter(self, data, x):\n",
    "        if self.head == None:\n",
    "            print(\"Double Linked List is empty\")\n",
    "        else:\n",
    "            new_node = Node(data)\n",
    "            n = self.head\n",
    "            while n != None:\n",
    "                if x == n.data:\n",
    "                    break\n",
    "                n = n.next\n",
    "            if n == None:\n",
    "                print(\"Node not found in the double linked list\")\n",
    "            else:\n",
    "                new_node.next = n.next\n",
    "                new_node.prev = n\n",
    "                n.next.prev = new_node\n",
    "                n.next = new_node\n",
    "                \n",
    "    def addBefore(self, data, x):\n",
    "        if self.head == None:\n",
    "            print(\"Double Linked List is empty\")\n",
    "        else:\n",
    "            new_node = Node(data)\n",
    "            n = self.head\n",
    "            while n != None:\n",
    "                if x == n.data:\n",
    "                    break\n",
    "                n = n.next\n",
    "            if n == None:\n",
    "                print(\"Node not found in the double linked list\")\n",
    "            else:\n",
    "                new_node.next = n\n",
    "                new_node.prev = n.prev\n",
    "                n.prev.next = new_node\n",
    "                n.prev = new_node\n",
    "                \n",
    "    def deleteBegin(self):\n",
    "        if self.head == None:\n",
    "            print(\"Double linked list is empty. Cannot delete an empty linked list\")    \n",
    "        elif self.head.next == None:\n",
    "            self.head = None\n",
    "        else:\n",
    "            n = self.head\n",
    "            self.head = n.next\n",
    "            n.next.prev = n.prev\n",
    "            \n",
    "    def deleteEnd(self):\n",
    "        if self.head == None:\n",
    "            print(\"Can't Delete an empty double linked list. \")\n",
    "        elif self.head.next == None:\n",
    "            self.head = None\n",
    "        else:\n",
    "            n = self.head\n",
    "            while n.next != None:\n",
    "                n = n.next\n",
    "            n.prev.next = n.next\n",
    "            \n",
    "    def deleteMiddle(self, x):\n",
    "        if self.head == None:\n",
    "            print(\"Empty LINKED LIST. \")\n",
    "        elif self.head.next == None:\n",
    "            self.head = None\n",
    "        else:\n",
    "            n = self.head\n",
    "            while n is not None:\n",
    "                if x == n.data:\n",
    "                    break\n",
    "                n = n.next\n",
    "            if n is None:\n",
    "                print(f'Node {n} not found in the Double Linked List')\n",
    "            else:\n",
    "                n.next.prev = n.prev\n",
    "                n.prev.next = n.next\n",
    "                \n",
    "                \n",
    "\n",
    "dbl = doubleLL()\n",
    "\n",
    "# insert in an empty d.ll\n",
    "dbl.addEmpty(13)\n",
    "\n",
    "# insert at the beginnig of a d.ll\n",
    "dbl.addBegin(9)\n",
    "dbl.addBegin(6)\n",
    "\n",
    "# insert at the end of my d.ll\n",
    "dbl.addEnd(15)\n",
    "dbl.addEnd(19)\n",
    "\n",
    "# insert after a node in a d.ll\n",
    "dbl.addAfter(14, 13)\n",
    "dbl.addAfter(17, 15)\n",
    "\n",
    "# insert before a node in a d.ll\n",
    "dbl.addBefore(10, 13)\n",
    "dbl.addBefore(16, 17)\n",
    "\n",
    "# delete first node\n",
    "dbl.deleteBegin()\n",
    "\n",
    "# delete last node\n",
    "dbl.deleteEnd()\n",
    "\n",
    "\n",
    "# delete at the middle\n",
    "# dbl.deleteMiddle(14)\n",
    "# dbl.deleteMiddle(13)\n",
    "\n",
    "dbl.printForward()\n",
    "dbl.printReverse()"
   ]
  },
  {
   "cell_type": "code",
   "execution_count": null,
   "id": "47153b69",
   "metadata": {},
   "outputs": [],
   "source": []
  },
  {
   "cell_type": "markdown",
   "id": "22e374cd",
   "metadata": {},
   "source": [
    "# Stack\n",
    " - Operations:\n",
    " 1. Push: add elements to the stack\n",
    " 2. Pop: remove elements from the stack\n",
    " 3. Peek or top: return top elemet\n",
    " 4. isEmpty: whether stack is empty or not"
   ]
  },
  {
   "cell_type": "markdown",
   "id": "1981aa5b",
   "metadata": {},
   "source": [
    "## 1. Implement using List"
   ]
  },
  {
   "cell_type": "code",
   "execution_count": 6,
   "id": "c3fcc5ca",
   "metadata": {},
   "outputs": [
    {
     "name": "stdout",
     "output_type": "stream",
     "text": [
      "Select option \n",
      " 1.Push \n",
      " 2.Pop \n",
      " 3.Exit\n",
      "3\n"
     ]
    }
   ],
   "source": [
    "# create empty list\n",
    "stack = []\n",
    "\n",
    "# push to the stack\n",
    "def push():\n",
    "    data = int(input('Enter number to append: '))\n",
    "    stack.append(data)\n",
    "    print(stack)\n",
    "\n",
    "# pop from the stack\n",
    "def pop():\n",
    "    if not stack:\n",
    "        print('Stack is empty')\n",
    "    else:\n",
    "        n = stack.pop()\n",
    "        print(f'Number removed is {n}')\n",
    "        print(f'current elements in the stack {stack}')        \n",
    "while True:\n",
    "    print('Select option \\n 1.Push \\n 2.Pop \\n 3.Exit')\n",
    "    opt = int(input())\n",
    "    if opt==1:\n",
    "        push()\n",
    "    elif opt==2:\n",
    "        pop()\n",
    "    elif opt==3:\n",
    "        break\n",
    "    else:\n",
    "        print('Enter a valid Input')"
   ]
  },
  {
   "cell_type": "markdown",
   "id": "3becbd56",
   "metadata": {},
   "source": [
    "## 2. Implement using Modules \n",
    "## collections and queue modules\n",
    "- deque class (double ended queue)\n",
    "- queue module -> LifoQueue class (put method for the push and get for pop operations)\n",
    "- timeout parameter: in both put and get operations. Specifies the time when the operation will take to \n",
    "   print out a message that the stack is empty(when removing elements using get) and has reached max(full stack) -> for put\n",
    "- collections module -> deque class\n",
    "- push method -> use append method\n",
    "- pop -> use pop method"
   ]
  },
  {
   "cell_type": "code",
   "execution_count": 13,
   "id": "9263e7da",
   "metadata": {},
   "outputs": [
    {
     "name": "stdout",
     "output_type": "stream",
     "text": [
      "deque([10, 20])\n"
     ]
    }
   ],
   "source": [
    "# collections module has some classes i.e, deque\n",
    "import collections\n",
    "\n",
    "# empty stack\n",
    "stack = collections.deque()\n",
    "stack.append(10)\n",
    "stack.append(20)\n",
    "stack.append(49)\n",
    "stack.append(56)\n",
    "\n",
    "stack.pop()\n",
    "stack.pop()\n",
    "print(stack)"
   ]
  },
  {
   "cell_type": "code",
   "execution_count": 41,
   "id": "359f4e8f",
   "metadata": {},
   "outputs": [
    {
     "name": "stdout",
     "output_type": "stream",
     "text": [
      "<queue.LifoQueue object at 0x000002077505AA90>\n"
     ]
    }
   ],
   "source": [
    "# queue module has some classes i.e LifoQueue, Queue, Priority queue\n",
    "import queue\n",
    "stack = queue.LifoQueue()\n",
    "stack.put(12)\n",
    "stack.put(14)\n",
    "stack.put(19)\n",
    "stack.put(15)\n",
    "stack.put(13)\n",
    "\n",
    "stack.get()\n",
    "stack.get()\n",
    "print(stack)"
   ]
  },
  {
   "cell_type": "markdown",
   "id": "eac3d0bd",
   "metadata": {},
   "source": [
    "# Queue\n",
    "- Enqueue: add element to a queue\n",
    "- Dequeue: remove element from the queue\n",
    "- isEmpty: check if stack is empty"
   ]
  },
  {
   "cell_type": "markdown",
   "id": "6f1ceb0a",
   "metadata": {},
   "source": [
    "## 1. Implement queue using List"
   ]
  },
  {
   "cell_type": "code",
   "execution_count": 28,
   "id": "62451390",
   "metadata": {},
   "outputs": [
    {
     "name": "stdout",
     "output_type": "stream",
     "text": [
      "Enter options: \n",
      "1.Add \n",
      "2.remove \n",
      "3.show \n",
      "4.quit\n",
      "4\n"
     ]
    }
   ],
   "source": [
    "queue = []\n",
    "# enqueue\n",
    "def enqueue():\n",
    "    elem = int(input('Enter element: \\n'))\n",
    "    queue.append(elem)\n",
    "    print(f'{elem} added to the queue \\n')\n",
    "\n",
    "# dequeue\n",
    "def dequeue():\n",
    "    if not queue:\n",
    "        print('The queue is empty \\n')\n",
    "    else:\n",
    "        fifo = queue.pop(0)\n",
    "        print(f'removed element {fifo}')\n",
    "    \n",
    "def show():\n",
    "    print(queue,'\\n')\n",
    "    \n",
    "while True:\n",
    "    print('Enter options: \\n1.Add \\n2.remove \\n3.show \\n4.quit')\n",
    "    choice = int(input())\n",
    "    if choice == 1:\n",
    "        enqueue()\n",
    "    elif choice == 2:\n",
    "        dequeue()\n",
    "    elif choice == 3:\n",
    "        show()\n",
    "    elif choice == 4:\n",
    "        break\n",
    "    else:\n",
    "        print('Enter a valid option')"
   ]
  },
  {
   "cell_type": "code",
   "execution_count": 33,
   "id": "d08fe854",
   "metadata": {},
   "outputs": [
    {
     "name": "stdout",
     "output_type": "stream",
     "text": [
      "Enter options: \n",
      "1.Add \n",
      "2.remove \n",
      "3.show \n",
      "4.quit \n",
      "\n",
      "4\n"
     ]
    }
   ],
   "source": [
    "queue = []\n",
    "\n",
    "def enqueue():\n",
    "    elem = int(input('Enter element \\n'))\n",
    "    queue.insert(0, elem)\n",
    "    print(f'Entered element {elem}')\n",
    "    \n",
    "def dequeue():\n",
    "    if not queue:\n",
    "        print('queue is empty')\n",
    "    else:\n",
    "        fifo = queue.pop()\n",
    "        print(f'removed element {fifo}')\n",
    "    \n",
    "def show():\n",
    "    print(queue)\n",
    "    \n",
    "while True:\n",
    "    print('Enter options: \\n1.Add \\n2.remove \\n3.show \\n4.quit \\n')\n",
    "    choice = int(input())\n",
    "    if choice == 1:\n",
    "        enqueue()\n",
    "    elif choice == 2:\n",
    "        dequeue()\n",
    "    elif choice == 3:\n",
    "        show()\n",
    "    elif choice == 4:\n",
    "        break\n",
    "    else:\n",
    "        print('Enter a valid option')\n",
    "        "
   ]
  },
  {
   "cell_type": "markdown",
   "id": "cbbf61f0",
   "metadata": {},
   "source": [
    "## 2. Implementing Queue using classes\n",
    "- deque class -> collections module\n",
    "- You can append and remove elements from both ends i.e, left and right\n",
    "---> left(appendleft) & right(pop)\n",
    "---> right(append) & right(popleft)"
   ]
  },
  {
   "cell_type": "code",
   "execution_count": 47,
   "id": "f009f94e",
   "metadata": {},
   "outputs": [
    {
     "data": {
      "text/plain": [
       "deque([40, 30, 20])"
      ]
     },
     "execution_count": 47,
     "metadata": {},
     "output_type": "execute_result"
    }
   ],
   "source": [
    "import collections\n",
    "q = collections.deque() #double ended queue\n",
    "\n",
    "q.appendleft(10)\n",
    "q.appendleft(20)\n",
    "q.appendleft(30)\n",
    "q.appendleft(40)\n",
    "\n",
    "q.pop()\n",
    "q"
   ]
  },
  {
   "cell_type": "code",
   "execution_count": 55,
   "id": "0ef0c5c4",
   "metadata": {},
   "outputs": [
    {
     "name": "stdout",
     "output_type": "stream",
     "text": [
      "False\n",
      "False\n"
     ]
    }
   ],
   "source": [
    "# collections module -> deque class\n",
    "import collections \n",
    "q = collections.deque()\n",
    "\n",
    "q.append(15)\n",
    "q.append(24)\n",
    "q.append(29)\n",
    "q.append(85)\n",
    "\n",
    "q.popleft()\n",
    "q.popleft()\n",
    "print(not q)\n",
    "print(len(q)==0)"
   ]
  },
  {
   "cell_type": "code",
   "execution_count": 100,
   "id": "3f24485d",
   "metadata": {},
   "outputs": [],
   "source": [
    "# queue module -> class name is Queue"
   ]
  },
  {
   "cell_type": "markdown",
   "id": "fe82112d",
   "metadata": {},
   "source": [
    "# Tree\n",
    "\n",
    "    --  Root node: first node of a tree\n",
    "    --  Leaf node: last node of a tree or a subtree. Has no children\n",
    "\n",
    "CHARACTERISTICS OF TREE:\n",
    "* Non-linear data structure\n",
    "* Level of tree i.e Level 0...n\n",
    "* Degree of node: number of children a node has \n",
    "* Degree of a tree: highest degree of a node\n",
    "* Height of a node: highest number of edges from the leaf node to the specific node\n",
    "* Height of a tree: highest number of edges from the leaf node to the root node\n",
    "* Depth of a node: highest number of edges from the root node to the specific node\n",
    "* Depth of a tree: highest number of edges from the root node to the leaf node\n",
    "\n",
    "\n",
    "- 1. General tree: a parent has any number of nodes (children)\n",
    "\n",
    "- 2. Binary tree: a parent has 0, 1 or 2 children\n",
    "\n",
    "   ---> Full Binary tree (0 or 2 children in a tree/subtree)\n",
    "   \n",
    "   ---> Complete Binary tree (0 or 2 children but a tree/subtree needs to be complete from left)\n",
    "   \n",
    "   ---> Perfect Binary tree"
   ]
  },
  {
   "cell_type": "code",
   "execution_count": 6,
   "id": "55d5ba48",
   "metadata": {},
   "outputs": [
    {
     "name": "stdout",
     "output_type": "stream",
     "text": [
      "6\n",
      "3\n",
      "1\n",
      "7\n",
      "98\n",
      "10\n"
     ]
    }
   ],
   "source": [
    "# Create \n",
    "class BST:\n",
    "    def __init__(self, key):\n",
    "        self.key = key\n",
    "        self.lchild = None\n",
    "        self.rchild = None\n",
    "        \n",
    "    def insert(self, data):\n",
    "        if self.key == None:\n",
    "            self.key = data\n",
    "            return\n",
    "#         for duplicate values\n",
    "        if self.key == data:\n",
    "            return\n",
    "        \n",
    "        if self.key > data:\n",
    "            if self.lchild:\n",
    "                self.lchild.insert(data)\n",
    "            else:\n",
    "                self.lchild = BST(data)\n",
    "        else:\n",
    "            if self.rchild:\n",
    "                self.rchild.insert(data)\n",
    "            else:\n",
    "                self.rchild = BST(data)\n",
    "                \n",
    "    def search(self, data):\n",
    "        if self.key == data:\n",
    "            print('Node is found!')\n",
    "            return\n",
    "        if data < self.key:\n",
    "            if self.lchild:\n",
    "                self.lchild.search(data)\n",
    "            else:\n",
    "                print('Node is not present in the tree!')\n",
    "        else:\n",
    "            if self.rchild:\n",
    "                self.rchild.search(data)\n",
    "            else:\n",
    "                print('Node is not present in the tree')\n",
    "                \n",
    "    def preorder(self):\n",
    "        print(self.key)\n",
    "        if self.lchild:\n",
    "            self.lchild.preorder()\n",
    "        if self.rchild:\n",
    "            self.rchild.preorder()\n",
    "            \n",
    "    def inorder(self):\n",
    "        if self.lchild:\n",
    "            self.lchild.inorder()\n",
    "        print(self.key)\n",
    "        if self.rchild:\n",
    "            self.rchild.inorder()\n",
    "            \n",
    "    def postorder(self):\n",
    "        if self.lchild:\n",
    "            self.lchild.preorder()\n",
    "        if self.rchild:\n",
    "            self.rchild.preorder()\n",
    "        print(self.key)\n",
    "        \n",
    "    def delete(self, data):\n",
    "        if self.key == None:\n",
    "            print(\"Empty tree\")\n",
    "            return\n",
    "        \n",
    "            \n",
    "        \n",
    "root = BST(10)\n",
    "list1 = [6, 3, 1, 6, 98, 3, 7]\n",
    "for li in list1:\n",
    "    root.insert(li)\n",
    "    \n",
    "# root.search(60)\n",
    "root.postorder()"
   ]
  },
  {
   "cell_type": "code",
   "execution_count": 7,
   "id": "e481198d",
   "metadata": {},
   "outputs": [
    {
     "name": "stdout",
     "output_type": "stream",
     "text": [
      "^C\n"
     ]
    }
   ],
   "source": [
    "!pip install virtualenv"
   ]
  },
  {
   "cell_type": "markdown",
   "id": "5ac1d590",
   "metadata": {},
   "source": [
    "# Graph\n",
    "* Contains nodes/set of vertices and set of edges\n",
    "* Unlike trees, they dont have any root node\n",
    "* Graphs have cycles and you can have multiple paths to reach a node\n",
    "* Graph theory: study of graphs\n",
    "* G = (V,E) => ordered pair\n",
    "* G = {V,E} => unordered pair\n",
    "* Application of graphs: in GPS systems and Google Maps to find the shortest path from one destination to another, in social networks i.e Facebook and LinkedIn, Graphs are used to find the connection between the users, in e-commerce websites it shows recommendation to show who bought a product, Google search algorithms\n",
    "* Tree (Non-linear) - data is organized/stored hierarchically. Tree is a special type/restricted type of graph\n",
    "* If tree has n nodes, then it contains n-1 edges\n",
    "* Not all graphs will be trees"
   ]
  },
  {
   "cell_type": "markdown",
   "id": "1576a82d",
   "metadata": {},
   "source": [
    "# Types of Graphs:\n",
    "## 1. Direction of edges\n",
    "* Directed Graph: a graph in which all the adges are uni-directional i.e if i follow you, there is no rule that you need to follow me \n",
    "* Undirected Graph: a Graph in which all the edges are bi-directional i.e when i accept your friend request, me and you are friends now, we both can like or comment on each others stories or photo\n",
    "\n",
    "## 2. Weights:\n",
    "* WEIGHTED GRAPH: a graph in which each edge is assigned with some weight/cost/value\n",
    "* UNWEIGHTED GRAPH: a graph in which there is no value or weight associated with the edge\n",
    "\n",
    "## 3. Cycle\n",
    "* CYCLIC GRAPH: graph which contains a cycle: if a path starts from a vertex and ends at the same vertex\n",
    "* ACYCLIC GRAPH: graph which contains no cycle i.e Tree"
   ]
  },
  {
   "cell_type": "markdown",
   "id": "bf403bf8",
   "metadata": {},
   "source": [
    "# Graph Terminologies\n",
    "* ADJACENT/NEIGHBOUR NODES: if there is an edge from one node and another \n",
    "* PATH: sequence of vertices in which each pair of successive nodes is connected by an edge\n",
    "\n",
    "   -> Simple path: if all of its vertices are distinct i.e not repeating\n",
    "   \n",
    "   -> Closed path: if the first and last node of the path is same\n",
    "   \n",
    "   -> Cycle: path in which first and last node need to be same and all the others distinct\n",
    "   \n",
    "* CONNECTED GRAPH: a graph is said to be connected if there is a path from any node to any other node\n",
    "* STRONGLY CONNECTED GRAPH: directed graph (as above) - uni-directed.\n",
    "* DEGREE OF A NODE (undirected graph): number of edges connected to it.\n",
    "* DEGREE OF A NODE (directed graph)\n",
    "\n",
    "   -> indegree of a node: number of edges coming into that node\n",
    "   \n",
    "   -> outdegree of a node: number of edges going outside of that node\n",
    "* COMPLETE GRAPH: there is an edge between every pair of nodes in the graph"
   ]
  },
  {
   "cell_type": "markdown",
   "id": "44458d71",
   "metadata": {},
   "source": [
    "# Graph Representation\n",
    "1. Adjacency Matrix: represents the connection between the nodes in matrix form \n",
    "  * undirected symmetric graph : when both values on either side of the diagonal are symmetric\n",
    "  * directed assymmetric graph : when both values on either side of the diagonal are not symmetric\n",
    "* it is easy to follow\n",
    "* Takes more memory space: stores the result of each occurence i.e 0 or 1\n",
    "* Use list of lists in Python implementation\n",
    "  \n",
    "2. Adjacency List: use dictionary in Python implementation"
   ]
  },
  {
   "cell_type": "markdown",
   "id": "4c8bf877",
   "metadata": {},
   "source": [
    "### Graph operations: Insertion (adjacency matrix)"
   ]
  },
  {
   "cell_type": "code",
   "execution_count": 6,
   "id": "9a79c08f",
   "metadata": {},
   "outputs": [
    {
     "name": "stdout",
     "output_type": "stream",
     "text": [
      "Before adding nodes: \n",
      "[]\n",
      "[]\n",
      "After adding nodes: \n",
      "['B', 'A']\n",
      "[[0, 0], [0, 0]]\n",
      "0 0 \n",
      "0 0 \n"
     ]
    }
   ],
   "source": [
    "# function to add a node\n",
    "def add_node(v):\n",
    "    global node_count\n",
    "    if v in nodes:\n",
    "        print(f'{v} node is already present')\n",
    "    else:\n",
    "        node_count = node_count + 1\n",
    "        nodes.append(v)\n",
    "        for n in graph:\n",
    "            n.append(0)\n",
    "        temp = []\n",
    "        for i in range(node_count):\n",
    "            temp.append(0)\n",
    "        graph.append(temp)\n",
    "        \n",
    "def print_graph():\n",
    "    for i in range(node_count):\n",
    "        for j in range(node_count):\n",
    "            print(graph[i][j], end=\" \")\n",
    "        print()\n",
    "        \n",
    "        \n",
    "        \n",
    "# list to store all the nodes of the graph\n",
    "nodes = []\n",
    "\n",
    "# store adjacency matrix\n",
    "graph = []\n",
    "\n",
    "# count of nodes in the graph\n",
    "node_count = 0\n",
    "\n",
    "\n",
    "print(\"Before adding nodes: \")\n",
    "print(nodes)\n",
    "print(graph)\n",
    "\n",
    "add_node(\"B\")\n",
    "add_node(\"A\")\n",
    "print(\"After adding nodes: \")\n",
    "print(nodes)\n",
    "print(graph)\n",
    "\n",
    "print_graph()"
   ]
  },
  {
   "cell_type": "code",
   "execution_count": null,
   "id": "a93ff13e",
   "metadata": {},
   "outputs": [],
   "source": [
    "nodes = []\n",
    "graph = []\n",
    "\n",
    "def add_node(n):\n",
    "    if n in nodes:\n",
    "        print(\"Node present\")\n",
    "        return\n",
    "    if n not in nodes:\n",
    "        nodes.append(n)\n",
    "    for i in graph:\n",
    "        "
   ]
  }
 ],
 "metadata": {
  "kernelspec": {
   "display_name": "Python 3",
   "language": "python",
   "name": "python3"
  },
  "language_info": {
   "codemirror_mode": {
    "name": "ipython",
    "version": 3
   },
   "file_extension": ".py",
   "mimetype": "text/x-python",
   "name": "python",
   "nbconvert_exporter": "python",
   "pygments_lexer": "ipython3",
   "version": "3.8.8"
  }
 },
 "nbformat": 4,
 "nbformat_minor": 5
}
